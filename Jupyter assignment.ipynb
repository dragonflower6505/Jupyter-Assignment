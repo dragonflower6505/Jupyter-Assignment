{
  "metadata": {
    "language_info": {
      "codemirror_mode": {
        "name": "python",
        "version": 3
      },
      "file_extension": ".py",
      "mimetype": "text/x-python",
      "name": "python",
      "nbconvert_exporter": "python",
      "pygments_lexer": "ipython3",
      "version": "3.8"
    },
    "kernelspec": {
      "name": "python",
      "display_name": "Python (Pyodide)",
      "language": "python"
    }
  },
  "nbformat_minor": 4,
  "nbformat": 4,
  "cells": [
    {
      "cell_type": "markdown",
      "source": "# My Jupyter Notebook on IBM Watson Studio",
      "metadata": {
        "tags": []
      }
    },
    {
      "cell_type": "markdown",
      "source": "**Florencia**\n<br>\nSoftware Engineer",
      "metadata": {}
    },
    {
      "cell_type": "markdown",
      "source": "*I am interested in data science because I want to learn how to analyze medical data and contribute to advancement of the field*",
      "metadata": {}
    },
    {
      "cell_type": "markdown",
      "source": "### My code in Cell 5 should multiply two numbers",
      "metadata": {
        "tags": []
      }
    },
    {
      "cell_type": "code",
      "source": "4*2",
      "metadata": {
        "trusted": true
      },
      "execution_count": 5,
      "outputs": [
        {
          "execution_count": 5,
          "output_type": "execute_result",
          "data": {
            "text/plain": "8"
          },
          "metadata": {}
        }
      ]
    },
    {
      "cell_type": "markdown",
      "source": "**Horizontal Rule**\n***\n**Bulleted List**\n<ul>\n    <li>dog</li>\n    <li>cat</li>\n    <li>mouse</li>\n    <li>horse</li>\n</ul>\n\n**Numbered List**\n<ol>\n    <li>dog</li>\n    <li>cat</li>\n    <li>mouse</li>\n    <li>horse</li>\n</ol>\n\n**Blocked Quotes**\n> Here is a block quote",
      "metadata": {}
    }
  ]
}